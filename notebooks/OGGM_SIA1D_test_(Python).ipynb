{
 "cells": [
  {
   "cell_type": "markdown",
   "id": "6e34c5f2",
   "metadata": {},
   "source": [
    "This notebook aims to test out how well the new numerical scheme from Julia is implemented in OGGM.\n",
    "\n",
    "For this notebook to work, downloading the OGGM version available at : https://github.com/lucillegimenes/oggm is necessary. "
   ]
  },
  {
   "cell_type": "code",
   "execution_count": 1,
   "id": "fc88c026",
   "metadata": {
    "scrolled": true
   },
   "outputs": [
    {
     "name": "stderr",
     "output_type": "stream",
     "text": [
      "WARNING: method definition for fl_diag at /home/gimenelu/oggm/oggm/core/SIA1D.jl:188 declares type variable I but does not use it.\n",
      "2023-09-27 15:40:43: oggm.cfg: Reading default parameters from the OGGM `params.cfg` configuration file.\n",
      "2023-09-27 15:40:43: oggm.cfg: Multiprocessing switched OFF according to the parameter file.\n",
      "2023-09-27 15:40:43: oggm.cfg: Multiprocessing: using all available processors (N=16)\n",
      "2023-09-27 15:40:43: oggm.cfg: PARAMS['continue_on_error'] changed from `False` to `True`.\n"
     ]
    }
   ],
   "source": [
    "# %%\n",
    "import oggm\n",
    "from oggm import cfg, utils, workflow, tasks, graphics, global_tasks\n",
    "from oggm.core import flowline, massbalance\n",
    "import salem\n",
    "import xarray as xr\n",
    "import pandas as pd\n",
    "import numpy as np\n",
    "import geopandas as gpd\n",
    "import matplotlib.pyplot as plt\n",
    "import os\n",
    "import functools\n",
    "from oggm.shop import gcm_climate\n",
    "import time\n",
    "\n",
    "cfg.initialize(logging_level='WARNING')\n",
    "\n",
    "cfg.PARAMS['use_multiprocessing'] = False\n",
    "cfg.PATHS['working_dir'] = '/home/gimenelu/Run_oggm_test/'\n",
    "cfg.PARAMS['continue_on_error'] = True"
   ]
  },
  {
   "cell_type": "code",
   "execution_count": null,
   "id": "ae1b2f1a",
   "metadata": {},
   "outputs": [],
   "source": [
    "#Choosing one glacier\n",
    "rgi_id = ['RGI60-15.03733'] #Mer de Glace\n",
    "base_url = 'https://cluster.klima.uni-bremen.de/~oggm/gdirs/oggm_v1.6/L3-L5_files/2023.1/elev_bands/W5E5_spinup/'\n",
    "gdirs = workflow.init_glacier_directories(rgi_id, from_prepro_level=4, prepro_base_url=base_url, prepro_border=160)\n",
    "gdir=gdirs[0]\n",
    "\n",
    "workflow.execute_entity_task(tasks.init_present_time_glacier,gdirs);"
   ]
  },
  {
   "cell_type": "code",
   "execution_count": null,
   "id": "cc0c912a",
   "metadata": {},
   "outputs": [],
   "source": [
    "gdir"
   ]
  },
  {
   "cell_type": "code",
   "execution_count": null,
   "id": "099a6f6f",
   "metadata": {},
   "outputs": [],
   "source": [
    "#Climate data to use for later\n",
    "user ='gimenelu'\n",
    "m='MRI-ESM2-0'\n",
    "ssp='ssp126'\n",
    "\n",
    "fp = '/mnt/{}/equipes/CRYODYN/OGGM/CMIP6/pr/{}_{}_r1i1p1f1_pr.nc'.format(user,m,ssp)\n",
    "ft = '/mnt/{}/equipes/CRYODYN/OGGM/CMIP6/tas/{}_{}_r1i1p1f1_tas.nc'.format(user,m,ssp)\n",
    "\n",
    "#Bias correction of the files\n",
    "workflow.execute_entity_task(gcm_climate.process_cmip_data, gdir, \n",
    "                                         filesuffix='_CMIP6_{}_{}'.format(m,ssp),  # recognize the climate file for later\n",
    "                                         fpath_temp=ft,  # temperature projections\n",
    "                                         fpath_precip=fp,  # precip projections\n",
    "                                         );"
   ]
  },
  {
   "cell_type": "markdown",
   "id": "3613741f",
   "metadata": {},
   "source": [
    "## Random climate simulation"
   ]
  },
  {
   "cell_type": "code",
   "execution_count": null,
   "id": "a2a80ea8",
   "metadata": {},
   "outputs": [],
   "source": [
    "cfg.PARAMS[\"evolution_model\"] = \"SemiImplicit\""
   ]
  },
  {
   "cell_type": "code",
   "execution_count": null,
   "id": "8e857075",
   "metadata": {
    "scrolled": true
   },
   "outputs": [],
   "source": [
    "%%time\n",
    "workflow.execute_entity_task(tasks.run_random_climate,gdirs,y0=2003,nyears=300,seed=1,\n",
    "                                         output_filesuffix='_semi')"
   ]
  },
  {
   "cell_type": "code",
   "execution_count": null,
   "id": "8f0d9ab7",
   "metadata": {},
   "outputs": [],
   "source": [
    "ds = utils.compile_run_output(gdirs, input_filesuffix='_semi')"
   ]
  },
  {
   "cell_type": "code",
   "execution_count": null,
   "id": "81aa638d",
   "metadata": {},
   "outputs": [],
   "source": [
    "# The only thing to do to use the new Julia iceflow model is to specify its name in configuration parameters\n",
    "cfg.PARAMS[\"evolution_model\"] = \"SIA1D\" "
   ]
  },
  {
   "cell_type": "code",
   "execution_count": null,
   "id": "daad5c21",
   "metadata": {},
   "outputs": [],
   "source": [
    "#If wanting to change the Julia solver\n",
    "from juliacall import Main as jl\n",
    "jl.seval(\"using OrdinaryDiffEq\")\n",
    "jl.seval(\"using LinearSolve\")\n",
    "cfg.PARAMS[\"Julia_solver\"] = jl.ImplicitEuler() "
   ]
  },
  {
   "cell_type": "code",
   "execution_count": null,
   "id": "2491c24b",
   "metadata": {
    "scrolled": false
   },
   "outputs": [],
   "source": [
    "%%time\n",
    "workflow.execute_entity_task(tasks.run_random_climate,gdirs,y0=2003,nyears=300,seed=1,\n",
    "                                         output_filesuffix='_julia')"
   ]
  },
  {
   "cell_type": "code",
   "execution_count": null,
   "id": "d63d1650",
   "metadata": {
    "scrolled": false
   },
   "outputs": [],
   "source": [
    "ds2 = utils.compile_run_output(gdir, input_filesuffix='_julia')"
   ]
  },
  {
   "cell_type": "markdown",
   "id": "d82bf1f2",
   "metadata": {},
   "source": [
    "## Constant climate"
   ]
  },
  {
   "cell_type": "code",
   "execution_count": null,
   "id": "7d183e83",
   "metadata": {
    "scrolled": true
   },
   "outputs": [],
   "source": [
    "cfg.PARAMS[\"evolution_model\"] = \"SemiImplicit\"\n",
    "\n",
    "workflow.execute_entity_task(tasks.run_constant_climate,gdir,y0=1916,nyears=100,\n",
    "                                         output_filesuffix='_semi',\n",
    "                                        store_model_geometry=True,\n",
    "                                        store_fl_diagnostics=True)\n",
    "\n",
    "ds = utils.compile_run_output(gdir, input_filesuffix='_semi')"
   ]
  },
  {
   "cell_type": "code",
   "execution_count": null,
   "id": "74e1c536",
   "metadata": {
    "scrolled": true
   },
   "outputs": [],
   "source": [
    "cfg.PARAMS[\"evolution_model\"] = \"SIA1D\"\n",
    "\n",
    "workflow.execute_entity_task(tasks.run_constant_climate,gdir,y0=1916,nyears=100,\n",
    "                                         output_filesuffix='_julia',\n",
    "                                        store_model_geometry=True,\n",
    "                                        store_fl_diagnostics=True)\n",
    "\n",
    "ds2 = utils.compile_run_output(gdir, input_filesuffix='_julia')"
   ]
  },
  {
   "cell_type": "markdown",
   "id": "ac59b4cd",
   "metadata": {},
   "source": [
    "## GCM climate data"
   ]
  },
  {
   "cell_type": "code",
   "execution_count": null,
   "id": "30613a40",
   "metadata": {
    "scrolled": true
   },
   "outputs": [],
   "source": [
    "%%time\n",
    "cfg.PARAMS[\"evolution_model\"] = \"SemiImplicit\"        \n",
    "    \n",
    "sid = '_CMIP6_{}_{}'.format(m,ssp)\n",
    "workflow.execute_entity_task(tasks.run_from_climate_data,gdir,ys=2020,\n",
    "                                         climate_filename='gcm_data',  # use gcm_data, not climate_historical\n",
    "                                         climate_input_filesuffix=sid,  # use the chosen scenario\n",
    "                                         output_filesuffix='_semi',\n",
    "                                         init_model_filesuffix='_spinup_historical')\n",
    "ds = utils.compile_run_output(gdir, input_filesuffix='_semi')"
   ]
  },
  {
   "cell_type": "code",
   "execution_count": null,
   "id": "57db699d",
   "metadata": {
    "scrolled": true
   },
   "outputs": [],
   "source": [
    "%%time\n",
    "cfg.PARAMS[\"evolution_model\"] = \"SIA1D\"    \n",
    "    \n",
    "sid = '_CMIP6_{}_{}'.format(m,ssp)\n",
    "workflow.execute_entity_task(tasks.run_from_climate_data,gdir,ys=2020,\n",
    "                                         climate_filename='gcm_data',  # use gcm_data, not climate_historical\n",
    "                                         climate_input_filesuffix=sid,  # use the chosen scenario\n",
    "                                         output_filesuffix='_julia',\n",
    "                                         init_model_filesuffix='_spinup_historical')\n",
    "ds2 = utils.compile_run_output(gdir, input_filesuffix='_julia')"
   ]
  },
  {
   "cell_type": "markdown",
   "id": "d268eb24",
   "metadata": {},
   "source": [
    "## Testing spinup"
   ]
  },
  {
   "cell_type": "markdown",
   "id": "81d69003",
   "metadata": {},
   "source": [
    "### 1. Fixed geometry "
   ]
  },
  {
   "cell_type": "code",
   "execution_count": null,
   "id": "0af76b4f",
   "metadata": {
    "scrolled": true
   },
   "outputs": [],
   "source": [
    "cfg.PARAMS[\"evolution_model\"] = \"SemiImplicit\" \n",
    "\n",
    "sid = '_CMIP6_{}_{}'.format(m,ssp)\n",
    "workflow.execute_entity_task(tasks.run_from_climate_data,gdir,fixed_geometry_spinup_yr=1990, ye=2100,\n",
    "                                         climate_filename='gcm_data',  # use gcm_data, not climate_historical\n",
    "                                         climate_input_filesuffix=sid,  # use the chosen scenario\n",
    "                                         output_filesuffix='_hist_fixed_geom',\n",
    "                                        store_model_geometry=True,\n",
    "                                        store_fl_diagnostics=True)\n",
    "# Read the output\n",
    "with xr.open_dataset(gdir.get_filepath('model_diagnostics', filesuffix='_hist_fixed_geom')) as ds:\n",
    "    ds = ds.load()"
   ]
  },
  {
   "cell_type": "code",
   "execution_count": null,
   "id": "4beb452d",
   "metadata": {
    "scrolled": true
   },
   "outputs": [],
   "source": [
    "cfg.PARAMS[\"evolution_model\"] = \"SIA1D\" \n",
    "\n",
    "sid = '_CMIP6_{}_{}'.format(m,ssp)\n",
    "workflow.execute_entity_task(tasks.run_from_climate_data,gdir,fixed_geometry_spinup_yr=1950, ye=2050,\n",
    "                                         climate_filename='gcm_data',  # use gcm_data, not climate_historical\n",
    "                                         climate_input_filesuffix=sid,  # use the chosen scenario\n",
    "                                         output_filesuffix='_hist_fixed_geom_jl')\n",
    "\n",
    "# Read the output\n",
    "with xr.open_dataset(gdir.get_filepath('model_diagnostics', filesuffix='_hist_fixed_geom_jl')) as ds2:\n",
    "    ds2 = ds2.load()"
   ]
  },
  {
   "cell_type": "markdown",
   "id": "e6967c56",
   "metadata": {},
   "source": [
    "### 2. Dynamic spinup alone, matching area"
   ]
  },
  {
   "cell_type": "code",
   "execution_count": null,
   "id": "8d4601e0",
   "metadata": {},
   "outputs": [],
   "source": [
    "cfg.PARAMS[\"evolution_model\"] = \"SemiImplicit\" "
   ]
  },
  {
   "cell_type": "code",
   "execution_count": null,
   "id": "8be61b71",
   "metadata": {
    "scrolled": true
   },
   "outputs": [],
   "source": [
    "# ---- Second the dynamic spinup alone, matching area ----\n",
    "workflow.execute_entity_task(tasks.run_dynamic_spinup,gdir,\n",
    "                         spinup_start_yr=1979,  # When to start the spinup\n",
    "                         minimise_for='area',  # what target to match at the RGI date\n",
    "                         output_filesuffix='_spinup_dynamic_area',  # Where to write the output\n",
    "                         ye=2020)\n"
   ]
  },
  {
   "cell_type": "code",
   "execution_count": null,
   "id": "d277f1ec",
   "metadata": {},
   "outputs": [],
   "source": [
    "# Read the output\n",
    "with xr.open_dataset(gdir.get_filepath('model_diagnostics', filesuffix='_spinup_dynamic_area')) as ds:\n",
    "    ds = ds.load()"
   ]
  },
  {
   "cell_type": "code",
   "execution_count": null,
   "id": "a80674f7",
   "metadata": {},
   "outputs": [],
   "source": [
    "cfg.PARAMS[\"evolution_model\"] = \"SIA1D\" "
   ]
  },
  {
   "cell_type": "code",
   "execution_count": null,
   "id": "0175eb63",
   "metadata": {
    "scrolled": true
   },
   "outputs": [],
   "source": [
    "# ---- Second the dynamic spinup alone, matching area ----\n",
    "workflow.execute_entity_task(tasks.run_dynamic_spinup,gdir,\n",
    "                         spinup_start_yr=1979,  # When to start the spinup\n",
    "                         minimise_for='area',  # what target to match at the RGI date\n",
    "                         output_filesuffix='_spinup_dynamic_area_jl',\n",
    "                        ye=2020)  # Where to write the output"
   ]
  },
  {
   "cell_type": "code",
   "execution_count": null,
   "id": "bbd7e98b",
   "metadata": {},
   "outputs": [],
   "source": [
    "# Read the output\n",
    "with xr.open_dataset(gdir.get_filepath('model_diagnostics', filesuffix='_spinup_dynamic_area_jl')) as ds2:\n",
    "    ds2 = ds2.load()"
   ]
  },
  {
   "cell_type": "markdown",
   "id": "50d6b840",
   "metadata": {},
   "source": [
    "### 3. Dynamic spinup alone, matching volume"
   ]
  },
  {
   "cell_type": "code",
   "execution_count": null,
   "id": "00722faf",
   "metadata": {},
   "outputs": [],
   "source": [
    "cfg.PARAMS[\"evolution_model\"] = \"SemiImplicit\" \n",
    "workflow.execute_entity_task(tasks.run_dynamic_spinup,gdir,\n",
    "                         spinup_start_yr=1979,  # When to start the spinup\n",
    "                         minimise_for='volume',  # what target to match at the RGI date\n",
    "                         output_filesuffix='_spinup_dynamic_volume',  # Where to write the output\n",
    "                         ye=2020)\n",
    "# Read the output\n",
    "with xr.open_dataset(gdir.get_filepath('model_diagnostics', filesuffix='_spinup_dynamic_volume')) as ds:\n",
    "    ds = ds.load()\n"
   ]
  },
  {
   "cell_type": "code",
   "execution_count": null,
   "id": "38c81eb8",
   "metadata": {},
   "outputs": [],
   "source": [
    "cfg.PARAMS[\"evolution_model\"] = \"SIA1D\" \n",
    "# ---- Second the dynamic spinup alone, matching area ----\n",
    "workflow.execute_entity_task(tasks.run_dynamic_spinup,gdir,\n",
    "                         spinup_start_yr=1979,  # When to start the spinup\n",
    "                         minimise_for='volume',  # what target to match at the RGI date\n",
    "                         output_filesuffix='_spinup_dynamic_vol_jl',\n",
    "                        ye=2020)  # Where to write the output\n",
    "\n",
    "\n",
    "# Read the output\n",
    "with xr.open_dataset(gdir.get_filepath('model_diagnostics', filesuffix='_spinup_dynamic_vol_jl')) as ds2:\n",
    "    ds2 = ds2.load()"
   ]
  },
  {
   "cell_type": "code",
   "execution_count": null,
   "id": "c7cc8ad9",
   "metadata": {},
   "outputs": [],
   "source": [
    "f, (ax1, ax2,ax3) = plt.subplots(3, 1, figsize=(12, 10),sharex=True)\n",
    "\n",
    "\n",
    "(ds.volume_m3*1e-9).plot(ax=ax1,label=\"SemiImplicit\")\n",
    "(ds2.volume_m3*1e-9).plot(ax=ax1,linestyle=\"dashed\",label=\"SIA_1D\")\n",
    "\n",
    "(ds.area_m2*1e-6).plot(ax=ax2,)\n",
    "(ds2.area_m2*1e-6).plot(ax=ax2,linestyle='dashed')\n",
    "\n",
    "\n",
    "(ds.length_m*1e-3).plot(ax=ax3)\n",
    "(ds2.length_m*1e-3).plot(ax=ax3,linestyle=\"dashed\")\n",
    "\n",
    "ax1.grid()\n",
    "ax1.set_ylabel('volume [km3]')\n",
    "ax1.set_xlabel('')\n",
    "ax2.grid()\n",
    "ax2.set_ylabel('area [km2]')\n",
    "ax2.set_xlabel('')\n",
    "ax2.set_title('')\n",
    "ax3.grid()\n",
    "ax3.set_ylabel('length [km]')\n",
    "ax3.set_title('')\n",
    "ax1.legend()\n",
    "\n",
    "ax1.set_title('Matching area dynamic spin-up')"
   ]
  },
  {
   "cell_type": "markdown",
   "id": "a8c41072",
   "metadata": {},
   "source": [
    "## Testing with hydro"
   ]
  },
  {
   "cell_type": "code",
   "execution_count": null,
   "id": "0fca08fa",
   "metadata": {
    "scrolled": true
   },
   "outputs": [],
   "source": [
    "cfg.PARAMS['store_model_geometry'] = True\n",
    "cfg.PARAMS[\"evolution_model\"] = \"SemiImplicit\"\n",
    "\n",
    "sid = '_CMIP6_{}_{}'.format(m,ssp)\n",
    "workflow.execute_entity_task(tasks.run_with_hydro,gdirs,run_task=tasks.run_from_climate_data,\n",
    "                                         ys=2020,\n",
    "                                         climate_filename='gcm_data',  # use gcm_data, not climate_historical\n",
    "                                         climate_input_filesuffix=sid,  # use the chosen scenario\n",
    "                                         output_filesuffix='_semi',\n",
    "                                         store_monthly_hydro=True,\n",
    "                                         store_model_geometry=True,\n",
    "                                         store_fl_diagnostics=True,\n",
    "                                            init_model_filesuffix='_spinup_historical');\n",
    "\n",
    "ds = utils.compile_run_output(gdir, input_filesuffix='_semi')"
   ]
  },
  {
   "cell_type": "code",
   "execution_count": null,
   "id": "bfd4f7b9",
   "metadata": {
    "scrolled": true
   },
   "outputs": [],
   "source": [
    "cfg.PARAMS['store_model_geometry'] = True\n",
    "cfg.PARAMS[\"evolution_model\"] = \"SIA1D\"\n",
    "\n",
    "sid = '_CMIP6_{}_{}'.format(m,ssp)\n",
    "workflow.execute_entity_task(tasks.run_with_hydro,gdirs,run_task=tasks.run_from_climate_data,\n",
    "                                         ys=2020,\n",
    "                                         climate_filename='gcm_data',  # use gcm_data, not climate_historical\n",
    "                                         climate_input_filesuffix=sid,  # use the chosen scenario\n",
    "                                         output_filesuffix='_julia',\n",
    "                                         store_monthly_hydro=True, # recognize the run for later\n",
    "                                        store_model_geometry=True,\n",
    "                                         store_fl_diagnostics=True,\n",
    "                            init_model_filesuffix='_spinup_historical');\n",
    "\n",
    "ds2 = utils.compile_run_output(gdir, input_filesuffix='_julia')"
   ]
  },
  {
   "cell_type": "code",
   "execution_count": null,
   "id": "5d2c5cb6",
   "metadata": {},
   "outputs": [],
   "source": [
    "f, (ax1) = plt.subplots(1, 1, figsize=(12, 8),sharex=True)\n",
    "\n",
    "\n",
    "runoff_vars = ['melt_off_glacier', 'melt_on_glacier','liq_prcp_off_glacier', 'liq_prcp_on_glacier']\n",
    "ds_runoff = ds[runoff_vars].clip(0) * 1e-9 #convert to Mt\n",
    "ds_runoff['runoff_Mt']=ds_runoff['melt_on_glacier']+ds_runoff['melt_off_glacier']+ds_runoff['liq_prcp_off_glacier']+ds_runoff['liq_prcp_on_glacier']\n",
    "\n",
    "ds_runoff['runoff_Mt'].rolling(time=30,center=True,min_periods=1).mean().plot(ax=ax1,label='SemiImplicit')\n",
    "\n",
    "ds2_runoff = ds2[runoff_vars].clip(0) * 1e-9 #convert to Mt\n",
    "ds2_runoff['runoff_Mt']=ds2_runoff['melt_on_glacier']+ds2_runoff['melt_off_glacier']+ds2_runoff['liq_prcp_off_glacier']+ds2_runoff['liq_prcp_on_glacier']\n",
    "\n",
    "ds2_runoff['runoff_Mt'].rolling(time=30,center=True,min_periods=1).mean().plot(ax=ax1,linestyle='dashed',\n",
    "                                                                               label='Julia')\n",
    "\n",
    "ax1.set_title(''+gdir.name+' (rolling mean of 30 years)',fontsize=14)\n",
    "\n",
    "#ax1.set_xlim([2020,2100])\n",
    "ax1.set_ylabel('Runoff [Mt]',fontsize=14)\n",
    "ax1.set_xlabel('Time',fontsize=14)\n",
    "ax1.grid(visible=True)\n",
    "ax1.set_xlim([2020,2300])"
   ]
  },
  {
   "cell_type": "markdown",
   "id": "f7b68217",
   "metadata": {},
   "source": [
    "# Plotting results of climate simulation (random, constant or GCM data)"
   ]
  },
  {
   "cell_type": "code",
   "execution_count": null,
   "id": "d7f5c68b",
   "metadata": {
    "scrolled": false
   },
   "outputs": [],
   "source": [
    "f, (ax1, ax2,ax3) = plt.subplots(3, 1, figsize=(12, 10),sharex=True)\n",
    "\n",
    "(ds.volume*1e-9).plot(ax=ax1,label=\"SemiImplicit\")\n",
    "(ds2.volume*1e-9).plot(ax=ax1,linestyle=\"dashed\",label=\"SIA_1D\")\n",
    "\n",
    "(ds.area*1e-6).plot(ax=ax2)\n",
    "(ds2.area*1e-6).plot(ax=ax2,linestyle='dashed')\n",
    "\n",
    "\n",
    "(ds.length*1e-3).plot(ax=ax3)\n",
    "(ds2.length*1e-3).plot(ax=ax3,linestyle=\"dashed\")\n",
    "\n",
    "ax1.grid()\n",
    "ax1.set_ylabel('volume [km3]')\n",
    "ax1.set_xlabel('')\n",
    "ax2.grid()\n",
    "ax2.set_ylabel('area [km2]')\n",
    "ax2.set_xlabel('')\n",
    "ax2.set_title('')\n",
    "ax3.grid()\n",
    "ax3.set_ylabel('length [km]')\n",
    "ax3.set_title('')\n",
    "ax1.legend()\n",
    "#ax1.set_xlim([2020,2300])\n",
    "ax1.set_title('Simulation based on GCM climate data ({})'.format(gdir.rgi_id))"
   ]
  },
  {
   "cell_type": "markdown",
   "id": "6ac9833c",
   "metadata": {},
   "source": [
    "# Checking the geometry files"
   ]
  },
  {
   "cell_type": "code",
   "execution_count": null,
   "id": "5a61fb9b",
   "metadata": {},
   "outputs": [],
   "source": [
    "with xr.open_dataset(gdir.get_filepath('model_geometry',filesuffix='_julia'),group=\"fl_0\") as dj:\n",
    "    dj = dj.load()\n",
    "with xr.open_dataset(gdir.get_filepath('model_geometry',filesuffix='_semi'),group=\"fl_0\") as do:\n",
    "    do = do.load()"
   ]
  },
  {
   "cell_type": "code",
   "execution_count": null,
   "id": "59bad72e",
   "metadata": {
    "scrolled": true
   },
   "outputs": [],
   "source": [
    "with xr.open_dataset(gdir.get_filepath('fl_diagnostics',filesuffix='_semi'),group=\"fl_0\") as flj:\n",
    "    flj = flj.load()\n",
    "with xr.open_dataset(gdir.get_filepath('fl_diagnostics',filesuffix='_julia'),group=\"fl_0\") as flo:\n",
    "    flo = flo.load()"
   ]
  },
  {
   "cell_type": "code",
   "execution_count": null,
   "id": "845b42f3",
   "metadata": {},
   "outputs": [],
   "source": [
    "f= plt.subplots(figsize=(8, 6))\n",
    "\n",
    "plt.plot(flj.mean(dim=\"time\").volume_m3*1e-9 ,label='vol Julia')\n",
    "plt.plot(flo.mean(dim=\"time\").volume_m3*1e-9,linestyle='dashed',label='vol SemiImplicit')\n",
    "plt.ylabel('volume [km3]')\n",
    "\n",
    "plt.grid()\n",
    "plt.legend()"
   ]
  },
  {
   "cell_type": "code",
   "execution_count": null,
   "id": "5d5606ac",
   "metadata": {},
   "outputs": [],
   "source": [
    "f= plt.subplots(figsize=(8, 6))\n",
    "\n",
    "plt.plot(flj.mean(dim=\"time\").area_m2*1e-6 ,label='vol Julia')\n",
    "plt.plot(flo.mean(dim=\"time\").area_m2*1e-6,linestyle='dashed',label='vol SemiImplicit')\n",
    "plt.ylabel('area [km2]')\n",
    "\n",
    "\n",
    "plt.grid()\n",
    "plt.legend()"
   ]
  },
  {
   "cell_type": "code",
   "execution_count": null,
   "id": "789d5a88",
   "metadata": {},
   "outputs": [],
   "source": [
    "f= plt.subplots(figsize=(8, 6))\n",
    "\n",
    "plt.plot(flj.mean(dim=\"time\").area_m2*1e-6 ,label='vol Julia')\n",
    "plt.plot(flo.mean(dim=\"time\").area_m2*1e-6,linestyle='dashed',label='vol SemiImplicit')\n",
    "plt.ylabel('area [km2]')\n",
    "\n",
    "\n",
    "plt.grid()\n",
    "plt.legend()"
   ]
  },
  {
   "cell_type": "code",
   "execution_count": null,
   "id": "98490f18",
   "metadata": {},
   "outputs": [],
   "source": [
    "f= plt.subplots(figsize=(8, 6))\n",
    "\n",
    "plt.plot(flj.mean(dim=\"time\").ice_velocity_myr ,label='vol Julia')\n",
    "plt.plot(flo.mean(dim=\"time\").ice_velocity_myr,linestyle='dashed',label='vol SemiImplicit')\n",
    "plt.ylabel('ice_velocity_myr')\n",
    "\n",
    "\n",
    "plt.grid()\n",
    "plt.legend()"
   ]
  },
  {
   "cell_type": "code",
   "execution_count": null,
   "id": "3be46fec",
   "metadata": {},
   "outputs": [],
   "source": [
    "f= plt.subplots(figsize=(12, 10))\n",
    "\n",
    "\n",
    "plt.plot(flj.dis_along_flowline,flj.bed_h,label='bed',color='k')\n",
    "plt.plot(flo.dis_along_flowline,flo.bed_h + flo.thickness_m[-1] ,label='surface SemiImplicit')\n",
    "plt.plot(flj.dis_along_flowline,flj.bed_h + flj.thickness_m[-1] ,label='surface SIA_1D', linestyle='dashed')\n",
    "\n",
    "\n",
    "plt.plot(flo.dis_along_flowline,flo.bed_h + flo.thickness_m[0] ,label='surface initiale oggm')\n",
    "plt.ylabel('Elevation [m]')\n",
    "plt.xlabel('Distance along flowline [m]')\n",
    "plt.title('Glacier profile at the end of GCM data run')\n",
    "\n",
    "plt.grid()\n",
    "plt.legend()\n"
   ]
  },
  {
   "cell_type": "code",
   "execution_count": null,
   "id": "2e887f47",
   "metadata": {
    "scrolled": true
   },
   "outputs": [],
   "source": [
    "np.mean((dj.mean(dim=\"x\").ts_section - do.mean(dim=\"x\").ts_section)*1e-6)"
   ]
  },
  {
   "cell_type": "code",
   "execution_count": null,
   "id": "80daf518",
   "metadata": {},
   "outputs": [],
   "source": [
    "plt.plot((dj.mean(dim=\"x\").ts_section - do.mean(dim=\"x\").ts_section)*1e-6)\n",
    "plt.ylabel('ts_section [km2]')\n",
    "plt.grid()"
   ]
  },
  {
   "cell_type": "code",
   "execution_count": null,
   "id": "2531c7e0",
   "metadata": {},
   "outputs": [],
   "source": [
    "np.mean((dj.mean(dim=\"x\").ts_width_m - do.mean(dim=\"x\").ts_width_m)*1e-3)"
   ]
  },
  {
   "cell_type": "code",
   "execution_count": null,
   "id": "c47146c3",
   "metadata": {},
   "outputs": [],
   "source": [
    "plt.plot((dj.mean(dim=\"x\").ts_width_m - do.mean(dim=\"x\").ts_width_m)*1e-3)\n",
    "plt.ylabel('ts_width [km]')\n",
    "plt.grid()"
   ]
  },
  {
   "cell_type": "code",
   "execution_count": null,
   "id": "7e813a7f",
   "metadata": {},
   "outputs": [],
   "source": [
    "do.isel(x=50).ts_section.plot(label='SemiImp')\n",
    "dj.isel(x=50).ts_section.plot(label='Julia',linestyle='dashed')\n",
    "plt.legend()\n",
    "plt.grid()"
   ]
  },
  {
   "cell_type": "code",
   "execution_count": null,
   "id": "3084c4de",
   "metadata": {},
   "outputs": [],
   "source": [
    "do.isel(x=100).ts_width_m.plot(label='SemiImp')\n",
    "dj.isel(x=100).ts_width_m.plot(label='Julia',linestyle='dashed')\n",
    "plt.legend()\n",
    "plt.grid()"
   ]
  },
  {
   "cell_type": "markdown",
   "id": "b271d1d9",
   "metadata": {},
   "source": [
    "# Testing the model stability"
   ]
  },
  {
   "cell_type": "markdown",
   "id": "e4d0d801",
   "metadata": {},
   "source": [
    "After this OGGM tutorial: https://oggm.org/tutorials/stable/notebooks/advanced/numeric_solvers.html"
   ]
  },
  {
   "cell_type": "code",
   "execution_count": 2,
   "id": "54f54d1f",
   "metadata": {},
   "outputs": [
    {
     "name": "stderr",
     "output_type": "stream",
     "text": [
      "2023-09-27 15:41:29: oggm.cfg: PARAMS['border'] changed from `80` to `160`.\n",
      "2023-09-27 15:41:29: oggm.workflow: init_glacier_directories from prepro level 3 on 1 glaciers.\n",
      "2023-09-27 15:41:29: oggm.workflow: Execute entity tasks [gdir_from_prepro] on 1 glaciers\n",
      "2023-09-27 15:41:29: oggm.workflow: init_glacier_directories from prepro level 3 on 1 glaciers.\n",
      "2023-09-27 15:41:29: oggm.workflow: Execute entity tasks [gdir_from_prepro] on 1 glaciers\n"
     ]
    }
   ],
   "source": [
    "cfg.PARAMS['border'] = 160\n",
    "\n",
    "# Define our test glacier (Baltoro)\n",
    "rgi_ids = ['RGI60-14.06794']\n",
    "\n",
    "# load elevation band representation\n",
    "cfg.PATHS['working_dir'] = utils.gettempdir('OGGM_dynamic_solvers_elevation_bands', reset=True)\n",
    "base_url_eb = 'https://cluster.klima.uni-bremen.de/~oggm/gdirs/oggm_v1.6/L3-L5_files/2023.3/elev_bands/W5E5/'\n",
    "gdir_eb = workflow.init_glacier_directories(rgi_ids, from_prepro_level=3, prepro_base_url=base_url_eb)[0]\n",
    "\n",
    "# load centerline representation\n",
    "cfg.PATHS['working_dir'] = utils.gettempdir('OGGM_dynamic_solvers_centerliens', reset=True)\n",
    "base_url_cl = 'https://cluster.klima.uni-bremen.de/~oggm/gdirs/oggm_v1.6/L3-L5_files/2023.3/centerlines/W5E5/'\n",
    "gdir_cl = workflow.init_glacier_directories(rgi_ids, from_prepro_level=3, prepro_base_url=base_url_cl)[0]"
   ]
  },
  {
   "cell_type": "code",
   "execution_count": 5,
   "id": "0fff876c",
   "metadata": {
    "scrolled": false
   },
   "outputs": [],
   "source": [
    "import time\n",
    "from oggm.core.flowline import FluxBasedModel, SemiImplicitModel, SIA1D\n",
    "# run Flux-Based with elevation bands\n",
    "start_time = time.time()  # time it for later comparision\n",
    "tasks.run_random_climate(gdir_eb,\n",
    "                         evolution_model=FluxBasedModel,\n",
    "                         nyears=300,\n",
    "                         y0=2000,\n",
    "                         seed=0,\n",
    "                         store_fl_diagnostics=True,\n",
    "                         output_filesuffix='_flux_based')\n",
    "flux_based_time = time.time() - start_time\n",
    "with xr.open_dataset(gdir_eb.get_filepath('model_diagnostics', filesuffix='_flux_based')) as ds:\n",
    "    ds_flux_eb = ds.load()"
   ]
  },
  {
   "cell_type": "code",
   "execution_count": 8,
   "id": "6c1a16f3",
   "metadata": {},
   "outputs": [],
   "source": [
    "# run Semi-Implicit with elevation bands\n",
    "start_time = time.time()  # time it for later comparision\n",
    "tasks.run_random_climate(gdir_eb,\n",
    "                         evolution_model=SemiImplicitModel,\n",
    "                         nyears=300,\n",
    "                         y0=2000,\n",
    "                         seed=0,\n",
    "                         store_fl_diagnostics=True,\n",
    "                         output_filesuffix='_semi_implicit')\n",
    "semi_implicit_time = time.time() - start_time\n",
    "\n",
    "# plot result\n",
    "with xr.open_dataset(gdir_eb.get_filepath('model_diagnostics', filesuffix='_semi_implicit')) as ds:\n",
    "    ds_impl_eb = ds.load()"
   ]
  },
  {
   "cell_type": "code",
   "execution_count": 18,
   "id": "57c11235",
   "metadata": {},
   "outputs": [],
   "source": [
    "# run Semi-Implicit with elevation bands\n",
    "start_time = time.time()  # time it for later comparision\n",
    "tasks.run_random_climate(gdir_eb,\n",
    "                         evolution_model=SIA1D,\n",
    "                         nyears=300,\n",
    "                         y0=2000,\n",
    "                         seed=0,\n",
    "                         store_fl_diagnostics=True,\n",
    "                         output_filesuffix='_SIA1D')\n",
    "SIA1D_time = time.time() - start_time\n",
    "\n",
    "# plot result\n",
    "with xr.open_dataset(gdir_eb.get_filepath('model_diagnostics', filesuffix='_SIA1D')) as ds:\n",
    "    ds_SIA1D_eb = ds.load()"
   ]
  },
  {
   "cell_type": "code",
   "execution_count": 19,
   "id": "dab5a183",
   "metadata": {},
   "outputs": [
    {
     "data": {
      "image/png": "[encoded data removed]",
      "text/plain": [
       "<Figure size 640x480 with 1 Axes>"
      ]
     },
     "metadata": {},
     "output_type": "display_data"
    }
   ],
   "source": [
    "ds_impl_eb.volume_m3.plot(label='SemiImplicitModel', lw=4)\n",
    "ds_flux_eb.volume_m3.plot(label='FluxBasedModel')\n",
    "ds_SIA1D_eb.volume_m3.plot(label='SIA1D', linestyle='dotted',lw=2)\n",
    "plt.legend();\n",
    "plt.grid()"
   ]
  },
  {
   "cell_type": "code",
   "execution_count": 24,
   "id": "3fa9584c",
   "metadata": {},
   "outputs": [
    {
     "name": "stdout",
     "output_type": "stream",
     "text": [
      "SIA1D: 0.92s\n",
      "SemiImplicit: 1.07s\n",
      "FluxBased: 1.83s\n"
     ]
    }
   ],
   "source": [
    "print('SIA1D: {}s\\nSemiImplicit: {}s\\nFluxBased: {}s'.format(round(SIA1D_time,2),\n",
    "                                                             round(semi_implicit_time,2),\n",
    "                                                             round(flux_based_time,2)))"
   ]
  },
  {
   "cell_type": "code",
   "execution_count": 32,
   "id": "b5db46dc",
   "metadata": {},
   "outputs": [
    {
     "data": {
      "image/png": "[encoded data removed]",
      "text/plain": [
       "<Figure size 1000x800 with 1 Axes>"
      ]
     },
     "metadata": {},
     "output_type": "display_data"
    }
   ],
   "source": [
    "# open flowline diagnostics\n",
    "f_impl = gdir_eb.get_filepath('fl_diagnostics', filesuffix='_semi_implicit')\n",
    "f_flux = gdir_eb.get_filepath('fl_diagnostics', filesuffix='_flux_based')\n",
    "f_sia = gdir_eb.get_filepath('fl_diagnostics', filesuffix='_SIA1D')\n",
    "with xr.open_dataset(f_impl, group=f'fl_0') as ds:\n",
    "    ds_fl_impl = ds.load()\n",
    "with xr.open_dataset(f_flux, group=f'fl_0') as ds:\n",
    "    ds_fl_flux = ds.load()\n",
    "with xr.open_dataset(f_sia, group=f'fl_0') as ds:\n",
    "    ds_fl_sia = ds.load()\n",
    "    \n",
    "# compare velocities along flowline\n",
    "year = 100\n",
    "plt.subplots(figsize=(10, 8))\n",
    "ds_fl_impl.sel(time=year).ice_velocity_myr.plot(label='SemiImplicitModel')\n",
    "ds_fl_flux.sel(time=year).ice_velocity_myr.plot(label='FluxBasedModel')\n",
    "ds_fl_sia.sel(time=year).ice_velocity_myr.plot(label='SIA1D', linestyle='dotted')\n",
    "plt.legend();\n",
    "plt.grid()"
   ]
  }
 ],
 "metadata": {
  "kernelspec": {
   "display_name": "Python 3 (ipykernel)",
   "language": "python",
   "name": "python3"
  },
  "language_info": {
   "codemirror_mode": {
    "name": "ipython",
    "version": 3
   },
   "file_extension": ".py",
   "mimetype": "text/x-python",
   "name": "python",
   "nbconvert_exporter": "python",
   "pygments_lexer": "ipython3",
   "version": "3.11.3"
  }
 },
 "nbformat": 4,
 "nbformat_minor": 5
}
